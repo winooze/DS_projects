{
 "cells": [
  {
   "cell_type": "markdown",
   "metadata": {},
   "source": [
    "# Описание проекта и данных \n",
    "\n",
    "**Цель проекта:** разработка модели для прогноза оттока клиентов. \n",
    "\n",
    "**Сфера:** телеком.\n",
    "\n",
    "Основные типы услуг, предоставляемые оператором: \n",
    "\n",
    "Основные типы услуг, предоставляемые оператором:\n",
    "\n",
    "1. Стационарная телефонная связь, в т.ч. и к нескольким линиям одновременно.\n",
    "2. Интернет: через телефонную линию (DSL) или оптоволоконный кабель (Fiber optic).\n",
    "3. Другие услуги: антивирус, облачное хранилище и т.д.\n",
    "\n",
    "Данные: информация о договоре, персональные данные клиента, информация об интернет-услугах, информация об услугах телефонии."
   ]
  },
  {
   "cell_type": "markdown",
   "metadata": {},
   "source": [
    "# Содержание проекта"
   ]
  },
  {
   "cell_type": "markdown",
   "metadata": {},
   "source": [
    "[Отчет по проекту](#otchet)\n",
    "\n",
    "1. [Импорт библиотек, загрузка данных](#1)\n",
    "2. [Исследовательский анализ данных](#2)\n",
    "    1. [Персональные данные клиентов](#2.1)\n",
    "    2. [Информация об услугах телефонии](#2.2)\n",
    "    3. [Информация об интернет-услугах](#2.3)\n",
    "    4. [Информация о договоре](#2.4)\n",
    "3. [Предобработка данных](#3)\n",
    "    1. [Общая предобработка](#3.1)\n",
    "    1. [Подготовка выборки к обучению](#3.2)\n",
    "4. [Настройка и выбор моделей](#4)\n",
    "    1. [CatBoost Classifier](#4.1)\n",
    "    1. [Random Forest Classifier](#4.2)"
   ]
  },
  {
   "cell_type": "markdown",
   "metadata": {},
   "source": [
    "<a name = 'otchet'></a>\n",
    "# Отчет по проекту "
   ]
  },
  {
   "cell_type": "markdown",
   "metadata": {},
   "source": [
    "#### Выполнено: \n",
    "- **исследовательский анализ данных**:\n",
    "    - анализ распределений и категорий признаков\n",
    "    - выделение категорий клиентов \n",
    "- **предобработка данных**: \n",
    "    - объединение признаков в единую таблицу \n",
    "    - заполнение полученных пропусков значениями по логике (None/0)\n",
    "    - приведение бинарных признаков к формату \"1/0\"\n",
    "    - формирование целевого признака Exited из доступных, где 1 = клиент ушел, 0 - остался \n",
    "    - анализ баланса целевого класса выборки = 26/73\n",
    "    - приведение некорректных типов данных к необходимым (EndDate, BeginDate, TotalCharge) \n",
    "    - Формирование нового признака Lifespan из EndDate, BeginDate и актуального значения даты (1 февраля 2020) \n",
    "    - Чистка признаков, удалены: 'customerID', 'BeginDate', 'EndDate', 'PaymentMethod', 'TotalCharges', 'MonthlyCharges', 'DeviceProtection', на основании бесполезности для модели / высокой коррелляции с другими признаками. \n",
    "-  **Подготовка выборок** \n",
    "    - разделение общей выборки на тестовую и обучающую \n",
    "    - OHE для RandomForest \n",
    "- **Обучение моделей** \n",
    "    - СatBoostlassifier \n",
    "    - RandomForest  \n",
    "Было рассмотрено только 2 модели, т.к. CatBoost показал высокий результат сразу. RandomForest рассматривался скорее для сравнения. \n",
    "- **Краткий вывод по моделям** \n",
    "    - Сформулирован краткий вывод по полученным моделям  \n",
    "\n",
    "#### Итоговая модель: \n",
    "CatBoostClassifier \n",
    "ROC AUC - 0.94\n",
    "Accuracy - 0.90 \n",
    "Recall - 0.75 \n",
    "\n",
    "Метрика Recall была рассмотрена исходя из предположения, что для данного бизнеса актуальна минимизация FalseNegative, то есть повышение Recall. Полученная модель верно классифицирует 3/4 объектов положительного класса. "
   ]
  },
  {
   "cell_type": "markdown",
   "metadata": {},
   "source": [
    "# Код проекта "
   ]
  },
  {
   "cell_type": "markdown",
   "metadata": {},
   "source": [
    "<a name = '1'></a>\n",
    "## 1. Импорт библиотек, загрузка данных"
   ]
  },
  {
   "cell_type": "code",
   "execution_count": 1,
   "metadata": {},
   "outputs": [],
   "source": [
    "import pandas as pd\n",
    "import numpy as np \n",
    "import matplotlib.pyplot as plt \n",
    "import seaborn as sns\n",
    "import re\n",
    "import datetime\n",
    "\n",
    "from sklearn.model_selection import train_test_split \n",
    "from sklearn.ensemble import RandomForestClassifier \n",
    "from sklearn.model_selection import RandomizedSearchCV \n",
    "from sklearn.metrics import roc_auc_score, accuracy_score, plot_roc_curve, plot_confusion_matrix,plot_precision_recall_curve, recall_score\n",
    "\n",
    "from catboost import CatBoostClassifier, cv, Pool"
   ]
  },
  {
   "cell_type": "code",
   "execution_count": 2,
   "metadata": {},
   "outputs": [],
   "source": [
    "def header(string):\n",
    "    'Вывод заголовков жирным шрифтом'\n",
    "    print ('\\033[1m' + string + '\\033[0m')"
   ]
  },
  {
   "cell_type": "code",
   "execution_count": 3,
   "metadata": {},
   "outputs": [],
   "source": [
    "def info_duplicated(data):\n",
    "    '''\n",
    "    Выводит информацию о таблице и количестве дубликатов в ней\n",
    "    '''\n",
    "    data.info()\n",
    "    print('')\n",
    "    print('Full duplicates:', data.duplicated().sum())"
   ]
  },
  {
   "cell_type": "code",
   "execution_count": 4,
   "metadata": {},
   "outputs": [],
   "source": [
    "names = ['contract', 'personal', 'internet', 'phone']\n",
    "root = '/datasets/final_provider/'\n",
    "files = ['contract.csv', 'personal.csv', 'internet.csv', 'phone.csv']\n",
    "\n",
    "\n",
    "for name in names: \n",
    "    path = 'datasets\\\\' + name + '.csv'\n",
    "    exec(names[names.index(name)] + '=pd.read_csv(path)')"
   ]
  },
  {
   "cell_type": "markdown",
   "metadata": {},
   "source": [
    "<a name = '2'></a>\n",
    "## 2. Исследовательский анализ данных "
   ]
  },
  {
   "cell_type": "markdown",
   "metadata": {},
   "source": [
    "<a name = '2.1'></a>\n",
    "### 2.1 Персональные данные клиентов"
   ]
  },
  {
   "cell_type": "code",
   "execution_count": 5,
   "metadata": {},
   "outputs": [
    {
     "name": "stdout",
     "output_type": "stream",
     "text": [
      "<class 'pandas.core.frame.DataFrame'>\n",
      "RangeIndex: 7043 entries, 0 to 7042\n",
      "Data columns (total 5 columns):\n",
      " #   Column         Non-Null Count  Dtype \n",
      "---  ------         --------------  ----- \n",
      " 0   customerID     7043 non-null   object\n",
      " 1   gender         7043 non-null   object\n",
      " 2   SeniorCitizen  7043 non-null   int64 \n",
      " 3   Partner        7043 non-null   object\n",
      " 4   Dependents     7043 non-null   object\n",
      "dtypes: int64(1), object(4)\n",
      "memory usage: 275.2+ KB\n",
      "\n",
      "Full duplicates: 0\n",
      "Duplicated customerID: 0\n"
     ]
    }
   ],
   "source": [
    "info_duplicated(personal)\n",
    "print('Duplicated customerID:', personal.customerID.duplicated().sum())\n",
    "#personal.head()"
   ]
  },
  {
   "cell_type": "markdown",
   "metadata": {},
   "source": [
    "Пропусков и дубликатов нет.\n",
    "Кроме ключа `customerID`, в таблице содержатся 4 столбца, с бинарными значениями: \n",
    "- `gender` - пол;\n",
    "- `SeniorCitizen` - является ли клиент пенсионером;\n",
    "- `Parthner` - состоит ли клиент в браке;\n",
    "- `Dependents` - наличие иждивенцев. \n",
    "\n",
    "Типы данных не нарушены. "
   ]
  },
  {
   "cell_type": "code",
   "execution_count": 6,
   "metadata": {},
   "outputs": [
    {
     "data": {
      "image/png": "[encoded data removed]",
      "text/plain": [
       "<Figure size 2016x504 with 4 Axes>"
      ]
     },
     "metadata": {},
     "output_type": "display_data"
    }
   ],
   "source": [
    "def balanceplot(col, ax_index): \n",
    "    sns.countplot(x=col, data=personal, ax=ax[ax_index])\n",
    "    ax[i].set_ylabel('Количество объектов')\n",
    "    \n",
    "cols = ['gender', 'SeniorCitizen', 'Partner', 'Dependents']\n",
    "\n",
    "sns.set(font_scale=1.3)\n",
    "fig, ax = plt.subplots(1, 4, figsize=(28,7))\n",
    "fig.suptitle('Баланс классов по признакам таблицы personal', fontsize = 20)\n",
    "for i in range(0,4): \n",
    "    balanceplot(cols[i], i)"
   ]
  },
  {
   "cell_type": "code",
   "execution_count": 7,
   "metadata": {},
   "outputs": [
    {
     "name": "stdout",
     "output_type": "stream",
     "text": [
      "\u001b[1mБаланс классов SeniorCitizen, %\u001b[0m\n",
      "0    92.768433\n",
      "1    17.953152\n",
      "Name: SeniorCitizen, dtype: float64\n",
      "\n",
      "\u001b[1mDependents, %\u001b[0m\n",
      "No     77.550700\n",
      "Yes    33.170885\n",
      "Name: Dependents, dtype: float64\n"
     ]
    }
   ],
   "source": [
    "header('Баланс классов SeniorCitizen, %')\n",
    "print(personal.SeniorCitizen.value_counts()/phone.shape[0] * 100)\n",
    "print('')\n",
    "header('Dependents, %')\n",
    "print(personal.Dependents.value_counts()/phone.shape[0] * 100)"
   ]
  },
  {
   "cell_type": "markdown",
   "metadata": {},
   "source": [
    "Дисбаланс бинарных признаков наблюдается в столбцах `SeniorCitizen` и `Dependents`. Большинство клиентов не являются пенсионерами и не имеют иждивенцев. \n",
    "Соотношение мужчин и женщин среди клиентов примерно одинаково, как и соотношение одиноких к неодиноким. "
   ]
  },
  {
   "cell_type": "markdown",
   "metadata": {},
   "source": [
    "<a name = '2.2'></a>\n",
    "#### 2.2 Информация об услугах телефонии"
   ]
  },
  {
   "cell_type": "code",
   "execution_count": 8,
   "metadata": {},
   "outputs": [
    {
     "name": "stdout",
     "output_type": "stream",
     "text": [
      "<class 'pandas.core.frame.DataFrame'>\n",
      "RangeIndex: 6361 entries, 0 to 6360\n",
      "Data columns (total 2 columns):\n",
      " #   Column         Non-Null Count  Dtype \n",
      "---  ------         --------------  ----- \n",
      " 0   customerID     6361 non-null   object\n",
      " 1   MultipleLines  6361 non-null   object\n",
      "dtypes: object(2)\n",
      "memory usage: 99.5+ KB\n",
      "\n",
      "Full duplicates: 0\n",
      "Duplicated customerID: 0\n"
     ]
    }
   ],
   "source": [
    "info_duplicated(phone)\n",
    "print('Duplicated customerID:', phone.customerID.duplicated().sum())\n",
    "#phone.head()"
   ]
  },
  {
   "cell_type": "markdown",
   "metadata": {},
   "source": [
    "Дубликаты и пропуски отсутствуют. \n",
    "Таблица содержит 2 столбца, ключ - `customerID`.\n",
    "`MultipleLines` - столбец бинарных значений, где Yes - стационарный телефон подключен к нескольким линиям одновременно, No - не подключен к нескольким линиям одновременно.\n",
    "Типы данных не нарушены. "
   ]
  },
  {
   "cell_type": "code",
   "execution_count": 9,
   "metadata": {},
   "outputs": [
    {
     "name": "stdout",
     "output_type": "stream",
     "text": [
      "\u001b[1mБаланс классов, %\u001b[0m\n",
      "No     53.293507\n",
      "Yes    46.706493\n",
      "Name: MultipleLines, dtype: float64\n"
     ]
    }
   ],
   "source": [
    "header('Баланс классов, %')\n",
    "print(phone.MultipleLines.value_counts()/phone.shape[0] * 100)"
   ]
  },
  {
   "cell_type": "markdown",
   "metadata": {},
   "source": [
    "Соотношение значений класса близко к 50 на 50, незначительно преобладают клиенты, подключенные к одной линии. "
   ]
  },
  {
   "cell_type": "markdown",
   "metadata": {},
   "source": [
    "<a name = '2.3'></a>\n",
    "#### 2.3 Информация об интернет-услугах"
   ]
  },
  {
   "cell_type": "code",
   "execution_count": 10,
   "metadata": {},
   "outputs": [
    {
     "name": "stdout",
     "output_type": "stream",
     "text": [
      "<class 'pandas.core.frame.DataFrame'>\n",
      "RangeIndex: 5517 entries, 0 to 5516\n",
      "Data columns (total 8 columns):\n",
      " #   Column            Non-Null Count  Dtype \n",
      "---  ------            --------------  ----- \n",
      " 0   customerID        5517 non-null   object\n",
      " 1   InternetService   5517 non-null   object\n",
      " 2   OnlineSecurity    5517 non-null   object\n",
      " 3   OnlineBackup      5517 non-null   object\n",
      " 4   DeviceProtection  5517 non-null   object\n",
      " 5   TechSupport       5517 non-null   object\n",
      " 6   StreamingTV       5517 non-null   object\n",
      " 7   StreamingMovies   5517 non-null   object\n",
      "dtypes: object(8)\n",
      "memory usage: 344.9+ KB\n",
      "\n",
      "Full duplicates: 0\n"
     ]
    },
    {
     "data": {
      "text/html": [
       "<div>\n",
       "<style scoped>\n",
       "    .dataframe tbody tr th:only-of-type {\n",
       "        vertical-align: middle;\n",
       "    }\n",
       "\n",
       "    .dataframe tbody tr th {\n",
       "        vertical-align: top;\n",
       "    }\n",
       "\n",
       "    .dataframe thead th {\n",
       "        text-align: right;\n",
       "    }\n",
       "</style>\n",
       "<table border=\"1\" class=\"dataframe\">\n",
       "  <thead>\n",
       "    <tr style=\"text-align: right;\">\n",
       "      <th></th>\n",
       "      <th>customerID</th>\n",
       "      <th>InternetService</th>\n",
       "      <th>OnlineSecurity</th>\n",
       "      <th>OnlineBackup</th>\n",
       "      <th>DeviceProtection</th>\n",
       "      <th>TechSupport</th>\n",
       "      <th>StreamingTV</th>\n",
       "      <th>StreamingMovies</th>\n",
       "    </tr>\n",
       "  </thead>\n",
       "  <tbody>\n",
       "    <tr>\n",
       "      <th>0</th>\n",
       "      <td>7590-VHVEG</td>\n",
       "      <td>DSL</td>\n",
       "      <td>No</td>\n",
       "      <td>Yes</td>\n",
       "      <td>No</td>\n",
       "      <td>No</td>\n",
       "      <td>No</td>\n",
       "      <td>No</td>\n",
       "    </tr>\n",
       "    <tr>\n",
       "      <th>1</th>\n",
       "      <td>5575-GNVDE</td>\n",
       "      <td>DSL</td>\n",
       "      <td>Yes</td>\n",
       "      <td>No</td>\n",
       "      <td>Yes</td>\n",
       "      <td>No</td>\n",
       "      <td>No</td>\n",
       "      <td>No</td>\n",
       "    </tr>\n",
       "    <tr>\n",
       "      <th>2</th>\n",
       "      <td>3668-QPYBK</td>\n",
       "      <td>DSL</td>\n",
       "      <td>Yes</td>\n",
       "      <td>Yes</td>\n",
       "      <td>No</td>\n",
       "      <td>No</td>\n",
       "      <td>No</td>\n",
       "      <td>No</td>\n",
       "    </tr>\n",
       "  </tbody>\n",
       "</table>\n",
       "</div>"
      ],
      "text/plain": [
       "   customerID InternetService OnlineSecurity OnlineBackup DeviceProtection  \\\n",
       "0  7590-VHVEG             DSL             No          Yes               No   \n",
       "1  5575-GNVDE             DSL            Yes           No              Yes   \n",
       "2  3668-QPYBK             DSL            Yes          Yes               No   \n",
       "\n",
       "  TechSupport StreamingTV StreamingMovies  \n",
       "0          No          No              No  \n",
       "1          No          No              No  \n",
       "2          No          No              No  "
      ]
     },
     "execution_count": 10,
     "metadata": {},
     "output_type": "execute_result"
    }
   ],
   "source": [
    "info_duplicated(internet)\n",
    "internet.head(3)"
   ]
  },
  {
   "cell_type": "markdown",
   "metadata": {},
   "source": [
    "Пропуски и дубликаты отсуствуют. В данных присутствуют 8 столбцов, из них 7 содержат бинарные значения. Тип данных - `object`.  \n",
    "Информация в столбцах: \n",
    "- `InternetService` - тип подключения: через телефонную линию (DSL) или оптоволоконный кабель (Fiber optic);  \n",
    "- `OnlineSecurity` - услуга блокировки небезопасных сайтов;\n",
    "- `OnlineBackup` - облачное хранилище для резервного копирования; \n",
    "- `Device protection` - антивирус; \n",
    "- `TechSupport` - выделенная линия техподдержки; \n",
    "- `StreamingTV` - стриминговое телевидиние; \n",
    "- `StreamingMovies` - каталог фильмов. \n",
    "\n",
    "Для всех столбцов `Yes` - подключено. "
   ]
  },
  {
   "cell_type": "code",
   "execution_count": 11,
   "metadata": {},
   "outputs": [
    {
     "name": "stdout",
     "output_type": "stream",
     "text": [
      "\u001b[1mСоотношение типов подключения к интернету, %\u001b[0m\n",
      "Fiber optic    56.117455\n",
      "DSL            43.882545\n",
      "Name: InternetService, dtype: float64\n",
      "\n"
     ]
    }
   ],
   "source": [
    "header('Соотношение типов подключения к интернету, %')\n",
    "print(internet.InternetService.value_counts()/internet.shape[0] * 100)\n",
    "print('')"
   ]
  },
  {
   "cell_type": "code",
   "execution_count": 12,
   "metadata": {},
   "outputs": [
    {
     "name": "stdout",
     "output_type": "stream",
     "text": [
      "\u001b[1mПроцент клиентов с подключенными услугами от всех пользователей интернет-услуг\u001b[0m\n",
      "\n",
      "\u001b[1mOnlineSecurity\u001b[0m\n",
      "0.36595976073953235\n",
      "\n",
      "\u001b[1mOnlineBackup\u001b[0m\n",
      "0.44027551205365234\n",
      "\n",
      "\u001b[1mDeviceProtection\u001b[0m\n",
      "0.4390067065434113\n",
      "\n",
      "\u001b[1mTechSupport\u001b[0m\n",
      "0.37049120899039334\n",
      "\n",
      "\u001b[1mStreamingTV\u001b[0m\n",
      "0.4906652166032264\n",
      "\n",
      "\u001b[1mStreamingMovies\u001b[0m\n",
      "0.49519666485408737\n",
      "\n"
     ]
    }
   ],
   "source": [
    "condition_list = ['OnlineSecurity', 'OnlineBackup', 'DeviceProtection', 'TechSupport', \n",
    "                  'StreamingTV', 'StreamingMovies']\n",
    "\n",
    "header('Процент клиентов с подключенными услугами от всех пользователей интернет-услуг')\n",
    "print()\n",
    "for i in condition_list: \n",
    "    query = i + '== \"Yes\"'\n",
    "    header(i)\n",
    "    print(internet.query(query).shape[0] / internet.shape[0])\n",
    "    print('')"
   ]
  },
  {
   "cell_type": "code",
   "execution_count": 13,
   "metadata": {},
   "outputs": [
    {
     "name": "stdout",
     "output_type": "stream",
     "text": [
      "Процент клиентов, пользующихся услугами интернета - 78.33%\n"
     ]
    }
   ],
   "source": [
    "print('Процент клиентов, пользующихся услугами интернета - {:.2%}'.format(internet.shape[0]/personal.shape [0]))"
   ]
  },
  {
   "cell_type": "markdown",
   "metadata": {},
   "source": [
    "Около 78 процентов всех клиентов пользуются услугами интернета. \n",
    "\n",
    "Больше половины из них используют подключение по оптоволокну. Наиболее популярные услуги (в порядке убывания): \n",
    "1. Каталог  фильмов \n",
    "2. Стриминговое телевидение \n",
    "3. Резервное копирование \n",
    "\n",
    "Наименее популярная - услуга блокировки небеопасных сайтов. "
   ]
  },
  {
   "cell_type": "markdown",
   "metadata": {},
   "source": [
    "<a name = '2.4'></a>\n",
    "#### 2.4 Информация о договоре"
   ]
  },
  {
   "cell_type": "code",
   "execution_count": 14,
   "metadata": {},
   "outputs": [
    {
     "name": "stdout",
     "output_type": "stream",
     "text": [
      "<class 'pandas.core.frame.DataFrame'>\n",
      "RangeIndex: 7043 entries, 0 to 7042\n",
      "Data columns (total 8 columns):\n",
      " #   Column            Non-Null Count  Dtype  \n",
      "---  ------            --------------  -----  \n",
      " 0   customerID        7043 non-null   object \n",
      " 1   BeginDate         7043 non-null   object \n",
      " 2   EndDate           7043 non-null   object \n",
      " 3   Type              7043 non-null   object \n",
      " 4   PaperlessBilling  7043 non-null   object \n",
      " 5   PaymentMethod     7043 non-null   object \n",
      " 6   MonthlyCharges    7043 non-null   float64\n",
      " 7   TotalCharges      7043 non-null   object \n",
      "dtypes: float64(1), object(7)\n",
      "memory usage: 440.3+ KB\n",
      "\n",
      "Full duplicates: 0\n"
     ]
    }
   ],
   "source": [
    "info_duplicated(contract)\n",
    "#contract.head()"
   ]
  },
  {
   "cell_type": "code",
   "execution_count": 15,
   "metadata": {},
   "outputs": [
    {
     "name": "stdout",
     "output_type": "stream",
     "text": [
      "4\n",
      "3\n"
     ]
    }
   ],
   "source": [
    "print(contract.PaymentMethod.nunique())\n",
    "print(contract.Type.nunique())"
   ]
  },
  {
   "cell_type": "markdown",
   "metadata": {},
   "source": [
    "Полных дубликатов нет, пропусков нет. Таблица содержит 8 признаков: \n",
    "- `BeginDate` - начало обслуживания, следует перевести в datetime;\n",
    "- `EndDate` - конец обслуживания, следует перевести в datetime; \n",
    "- `Type` - частота списания средств (по договору \\ ежемесячно), категориальный; \n",
    "- `PaperlessBilling` - Подключены ли электронные чеки, бинарный;\n",
    "- `Payment method` - метод оплаты, категориальный, 4 категории; \n",
    "- `MonthlyCharges`- Плата в месяц, непрерывный.\n",
    "- `TotalCharges` - всего оплачено. непрерывный, тип данных нарушен, необходимо заменить на int.\n",
    "\n",
    "\n",
    "Целевой признак - `EndDate`, где положительный класс (уход клиента) = любое значение, кроме 'No'. "
   ]
  },
  {
   "cell_type": "markdown",
   "metadata": {},
   "source": [
    "Рассмотрим распределение месячных оплат. "
   ]
  },
  {
   "cell_type": "code",
   "execution_count": 16,
   "metadata": {},
   "outputs": [
    {
     "data": {
      "text/plain": [
       "count    7043.000000\n",
       "mean       64.761692\n",
       "std        30.090047\n",
       "min        18.250000\n",
       "25%        35.500000\n",
       "50%        70.350000\n",
       "75%        89.850000\n",
       "max       118.750000\n",
       "Name: MonthlyCharges, dtype: float64"
      ]
     },
     "execution_count": 16,
     "metadata": {},
     "output_type": "execute_result"
    },
    {
     "data": {
      "image/png": "[encoded data removed]",
      "text/plain": [
       "<Figure size 360x360 with 1 Axes>"
      ]
     },
     "metadata": {},
     "output_type": "display_data"
    }
   ],
   "source": [
    "sns.displot(contract.MonthlyCharges, kde=True )\n",
    "plt.title('Распределение месячных оплат')\n",
    "plt.xlabel('Оплата')\n",
    "contract.MonthlyCharges.describe()"
   ]
  },
  {
   "cell_type": "markdown",
   "metadata": {},
   "source": [
    "Выбросов нет, есть два пика. Самый явный - около 20, второй - около 80. Рассмотрим их детальнее в совокупности с данными об использовании интернета и телефонии. "
   ]
  },
  {
   "cell_type": "code",
   "execution_count": 17,
   "metadata": {},
   "outputs": [
    {
     "name": "stdout",
     "output_type": "stream",
     "text": [
      "\u001b[1mПервый пик [0, 30]\u001b[0m\n",
      "Всего клиентов 1653\n",
      "\n",
      "Клиентов, пользующихся услугами интернета - 127\n",
      "Тип подключения таких клиентов: ['DSL']\n",
      "\n",
      "Клиентов, пользующихся услугами связи - 1526\n",
      "Встречающиеся подключения к нескольким линиям: ['No' 'Yes']\n"
     ]
    }
   ],
   "source": [
    "# примем, что первый пик находится в пределах [0, 30]\n",
    "temp = contract.query('MonthlyCharges <= 30').customerID\n",
    "\n",
    "header('Первый пик [0, 30]')\n",
    "print('Всего клиентов', temp.shape[0])\n",
    "print('')\n",
    "temp1 = pd.merge(temp, internet, on='customerID')\n",
    "print('Клиентов, пользующихся услугами интернета -', temp1.shape[0])\n",
    "print('Тип подключения таких клиентов:', temp1.InternetService.unique()[:])\n",
    "print('')\n",
    "temp1 = pd.merge(temp, phone, on='customerID')\n",
    "print('Клиентов, пользующихся услугами связи -', temp1.shape[0])\n",
    "print('Встречающиеся подключения к нескольким линиям:', temp1.MultipleLines.unique()[:])"
   ]
  },
  {
   "cell_type": "markdown",
   "metadata": {},
   "source": [
    "Первый пик - пользуется услугами связи, интернет используют редко, если используют, то через подключение DSL, которое уступает оптоволокну. "
   ]
  },
  {
   "cell_type": "code",
   "execution_count": 18,
   "metadata": {},
   "outputs": [
    {
     "name": "stdout",
     "output_type": "stream",
     "text": [
      "\u001b[1mВторой пик [70, 90]\u001b[0m\n",
      "Всего клиентов 1852\n",
      "\n",
      "Клиентов, пользующихся услугами интернета - 1852\n",
      "Тип подключения таких клиентов: ['Fiber optic' 'DSL']\n",
      "Fiber optic    0.701404\n",
      "DSL            0.298596\n",
      "Name: InternetService, dtype: float64\n",
      "\n",
      "Клиентов, пользующихся услугами связи - 1852\n",
      "Встречающиеся подключения к нескольким линиям: ['No' 'Yes']\n",
      "Yes    0.524838\n",
      "No     0.475162\n",
      "Name: MultipleLines, dtype: float64\n"
     ]
    }
   ],
   "source": [
    "# примем, что второй пик находится в пределах [70, 90]\n",
    "temp = contract[(contract['MonthlyCharges'] >= 70) & (contract['MonthlyCharges'] <= 90)]\n",
    "\n",
    "header('Второй пик [70, 90]')\n",
    "\n",
    "\n",
    "print('Всего клиентов', temp.shape[0])\n",
    "print('')\n",
    "temp1 = pd.merge(temp, internet, on='customerID')\n",
    "print('Клиентов, пользующихся услугами интернета -', temp1.shape[0])\n",
    "print('Тип подключения таких клиентов:', temp1.InternetService.unique()[:])\n",
    "print(temp1.InternetService.value_counts()/temp1.shape[0])\n",
    "print('')\n",
    "temp1 = pd.merge(temp, phone, on='customerID')\n",
    "print('Клиентов, пользующихся услугами связи -', temp1.shape[0])\n",
    "print('Встречающиеся подключения к нескольким линиям:', temp1.MultipleLines.unique()[:])\n",
    "print(temp1.MultipleLines.value_counts()/temp1.shape[0])\n",
    "\n",
    "del temp, temp1"
   ]
  },
  {
   "cell_type": "markdown",
   "metadata": {},
   "source": [
    "У второго пика все клиенты используют услуги интернета и телефонной связи. Почти 70% клиентов используют подключение через оптоволокно, больше половины - c подключением телефона на > 1 линию. "
   ]
  },
  {
   "cell_type": "markdown",
   "metadata": {},
   "source": [
    "Рассмотрим распределение полных оплат, для этого преобразуем тип данных признака TotalCharges. "
   ]
  },
  {
   "cell_type": "code",
   "execution_count": 19,
   "metadata": {},
   "outputs": [
    {
     "name": "stdout",
     "output_type": "stream",
     "text": [
      "\"Битых\" значений: 11\n"
     ]
    }
   ],
   "source": [
    "contract['TotalCharges'] = pd.to_numeric(contract['TotalCharges'], errors='coerce')\n",
    "print('\"Битых\" значений:', contract.TotalCharges.isna().sum())"
   ]
  },
  {
   "cell_type": "code",
   "execution_count": 20,
   "metadata": {},
   "outputs": [
    {
     "data": {
      "image/png": "[encoded data removed]",
      "text/plain": [
       "<Figure size 360x360 with 1 Axes>"
      ]
     },
     "metadata": {},
     "output_type": "display_data"
    },
    {
     "data": {
      "text/plain": [
       "count    7032.000000\n",
       "mean     2283.300441\n",
       "std      2266.771362\n",
       "min        18.800000\n",
       "25%       401.450000\n",
       "50%      1397.475000\n",
       "75%      3794.737500\n",
       "max      8684.800000\n",
       "Name: TotalCharges, dtype: float64"
      ]
     },
     "execution_count": 20,
     "metadata": {},
     "output_type": "execute_result"
    }
   ],
   "source": [
    "sns.displot(contract.TotalCharges, kde=True)\n",
    "plt.title('Распределение полных оплат')\n",
    "plt.xlabel('Размер оплаты') \n",
    "plt.ylabel('Количество объектов') \n",
    "plt.show()\n",
    "contract.TotalCharges.describe()"
   ]
  },
  {
   "cell_type": "markdown",
   "metadata": {},
   "source": [
    "Большинство клиентов заплатило не более 1300 за весь период обслуживания. Значительный пик около нуля -  может свидетельствовать о недавнем приросте новых клиентов.  \n",
    "\n",
    "Т.к. данная информация  предположительно не требуется для построения модели, на данном этапе дальнейшее исследование  версии проводиться не будет. "
   ]
  },
  {
   "cell_type": "markdown",
   "metadata": {},
   "source": [
    "<a name = '3'></a>\n",
    "## 3. Предобработка данных "
   ]
  },
  {
   "cell_type": "markdown",
   "metadata": {},
   "source": [
    "<a name = '3.1'></a>\n",
    "### 3.1 Общая предобработка "
   ]
  },
  {
   "cell_type": "code",
   "execution_count": 21,
   "metadata": {},
   "outputs": [
    {
     "name": "stdout",
     "output_type": "stream",
     "text": [
      "<class 'pandas.core.frame.DataFrame'>\n",
      "Int64Index: 7043 entries, 0 to 7042\n",
      "Data columns (total 20 columns):\n",
      " #   Column            Non-Null Count  Dtype  \n",
      "---  ------            --------------  -----  \n",
      " 0   customerID        7043 non-null   object \n",
      " 1   gender            7043 non-null   object \n",
      " 2   SeniorCitizen     7043 non-null   int64  \n",
      " 3   Partner           7043 non-null   object \n",
      " 4   Dependents        7043 non-null   object \n",
      " 5   BeginDate         7043 non-null   object \n",
      " 6   EndDate           7043 non-null   object \n",
      " 7   Type              7043 non-null   object \n",
      " 8   PaperlessBilling  7043 non-null   object \n",
      " 9   PaymentMethod     7043 non-null   object \n",
      " 10  MonthlyCharges    7043 non-null   float64\n",
      " 11  TotalCharges      7032 non-null   float64\n",
      " 12  InternetService   5517 non-null   object \n",
      " 13  OnlineSecurity    5517 non-null   object \n",
      " 14  OnlineBackup      5517 non-null   object \n",
      " 15  DeviceProtection  5517 non-null   object \n",
      " 16  TechSupport       5517 non-null   object \n",
      " 17  StreamingTV       5517 non-null   object \n",
      " 18  StreamingMovies   5517 non-null   object \n",
      " 19  MultipleLines     6361 non-null   object \n",
      "dtypes: float64(2), int64(1), object(17)\n",
      "memory usage: 1.1+ MB\n"
     ]
    }
   ],
   "source": [
    "#объединение данных в общую таблицу\n",
    "df = pd.merge(personal, contract, on = 'customerID')  \n",
    "df = pd.merge(df, internet, how = 'left')\n",
    "df = pd.merge(df, phone, how = 'left')\n",
    "df.info()"
   ]
  },
  {
   "cell_type": "markdown",
   "metadata": {},
   "source": [
    "После объединения таблиц в следующих признаках появились NaN: \n",
    "- `InternetService`\n",
    "- `OnlineSecurity`    \n",
    "- `OnlineBackup`     \n",
    "- `DeviceProtection`  \n",
    "- `TechSupport`       \n",
    "- `StreamingTV`       \n",
    "- `StreamingMovies`   \n",
    "- `MultipleLines` \n",
    "\n",
    "Заполним пропуски в `InternetService`, добавив третью категорию - 'None' (услуги интернета не используются), в `MultipleLines` - 'NoPhone'(услуги телефонии не используются). "
   ]
  },
  {
   "cell_type": "code",
   "execution_count": 22,
   "metadata": {},
   "outputs": [],
   "source": [
    "df.InternetService = df.InternetService.fillna('No')\n",
    "df.MultipleLines = df.MultipleLines.fillna('NoPhone')\n",
    "df = df.fillna(0)"
   ]
  },
  {
   "cell_type": "markdown",
   "metadata": {},
   "source": [
    "Приведем бинарные признаки к формату 1 - наличие признака, 0 - отсутствие признака. "
   ]
  },
  {
   "cell_type": "code",
   "execution_count": 23,
   "metadata": {},
   "outputs": [],
   "source": [
    "binary = ['Partner', 'Dependents', 'PaperlessBilling', 'OnlineSecurity',\n",
    "          'OnlineBackup', 'DeviceProtection', 'TechSupport', \n",
    "          'StreamingTV', 'StreamingMovies']\n",
    "df[binary] = np.where(df[binary] == 'Yes', 1, 0)"
   ]
  },
  {
   "cell_type": "markdown",
   "metadata": {},
   "source": [
    "Сформируем целевой признак `Exited`, где 1 - клиент ушел, т.е. значение признака `EndDate` не равно \"No\". "
   ]
  },
  {
   "cell_type": "code",
   "execution_count": 24,
   "metadata": {},
   "outputs": [],
   "source": [
    "df['Exited'] = np.where(df['EndDate'] == 'No', 0, 1)"
   ]
  },
  {
   "cell_type": "code",
   "execution_count": 25,
   "metadata": {},
   "outputs": [
    {
     "name": "stdout",
     "output_type": "stream",
     "text": [
      "\u001b[1mБаланс целевого класса выборки\u001b[0m\n"
     ]
    },
    {
     "data": {
      "text/plain": [
       "0    0.73463\n",
       "1    0.26537\n",
       "Name: Exited, dtype: float64"
      ]
     },
     "execution_count": 25,
     "metadata": {},
     "output_type": "execute_result"
    },
    {
     "data": {
      "image/png": "[encoded data removed]",
      "text/plain": [
       "<Figure size 432x288 with 1 Axes>"
      ]
     },
     "metadata": {},
     "output_type": "display_data"
    }
   ],
   "source": [
    "sns.countplot(data=df, x=df.Exited)\n",
    "plt.ylabel('Количество объектов')\n",
    "plt.xlabel('')\n",
    "header('Баланс целевого класса выборки')\n",
    "df['Exited'].value_counts()/df.shape[0]"
   ]
  },
  {
   "cell_type": "markdown",
   "metadata": {},
   "source": [
    "Наблюдается незначительный дисбаланс классов. "
   ]
  },
  {
   "cell_type": "markdown",
   "metadata": {},
   "source": [
    "Приведем признаки `BeginDate` и `EndDate` к формату datetime. "
   ]
  },
  {
   "cell_type": "code",
   "execution_count": 26,
   "metadata": {},
   "outputs": [
    {
     "data": {
      "text/plain": [
       "0"
      ]
     },
     "execution_count": 26,
     "metadata": {},
     "output_type": "execute_result"
    }
   ],
   "source": [
    "pattern = re.compile(r'^.*(3[01]|2[0-9]|1[3-9])$.*')\n",
    "matches = [x for x in df.BeginDate if pattern.match(x)]\n",
    "len(matches)\n",
    "#в дате нет чисел больше 12, это говорит о том, что формат даты = %Y-%m-%d"
   ]
  },
  {
   "cell_type": "code",
   "execution_count": 27,
   "metadata": {},
   "outputs": [],
   "source": [
    "df.BeginDate = pd.to_datetime(df.BeginDate, format='%Y-%m-%d')\n",
    "df.EndDate = pd.to_datetime(df.EndDate, format='%Y-%m-%d %H:%M:%S', errors='coerce')\n",
    "#df.head(5)"
   ]
  },
  {
   "cell_type": "markdown",
   "metadata": {},
   "source": [
    "В данных отсутствует информация о дне месяца и часах, при этом они актуальны на 1 февраля 2020 года. С помощью преобразованных признаков вычислим признак `Lifespan`. "
   ]
  },
  {
   "cell_type": "code",
   "execution_count": 28,
   "metadata": {},
   "outputs": [
    {
     "name": "stderr",
     "output_type": "stream",
     "text": [
      "<ipython-input-28-f22d76b8c1a8>:1: FutureWarning: The pandas.datetime class is deprecated and will be removed from pandas in a future version. Import from datetime module instead.\n",
      "  NOW = pd.datetime(year = 2020,month= 2,day= 1)\n"
     ]
    }
   ],
   "source": [
    "NOW = pd.datetime(year = 2020,month= 2,day= 1)\n",
    "#ушедшие клиенты \n",
    "df['Lifespan'] = (df.EndDate - df.BeginDate).dt.days\n",
    "#остальные клиенты \n",
    "df['Lifespan'] = df.Lifespan.fillna((NOW - df.BeginDate).dt.days).astype('int')"
   ]
  },
  {
   "cell_type": "code",
   "execution_count": 29,
   "metadata": {},
   "outputs": [],
   "source": [
    "df.to_csv('telecom_full.csv', index_label=False)"
   ]
  },
  {
   "cell_type": "markdown",
   "metadata": {},
   "source": [
    "Столбцы `MonthlyCharges` и `TotalCharges` могут быть преобразованы в новый признак, сильно коррелирующий с `Lifespan`. "
   ]
  },
  {
   "cell_type": "code",
   "execution_count": 30,
   "metadata": {},
   "outputs": [
    {
     "name": "stdout",
     "output_type": "stream",
     "text": [
      "Коэффициент Пирсона между признаками: 82.65%\n"
     ]
    }
   ],
   "source": [
    "newfeature = df.TotalCharges / df.MonthlyCharges * 30\n",
    "print('Коэффициент Пирсона между признаками: {:.2%}'.format(newfeature.corr(df.TotalCharges)))"
   ]
  },
  {
   "cell_type": "markdown",
   "metadata": {},
   "source": [
    "Корреляция признаков высокая. Признаки, которые можно удалить - `customerID`, `BeginDate`, `EndDate`, `MonthlyCharges`, `TotalCharges`. \n",
    "\n",
    "`DeviceProtection` был удален, так как в время настройки модели его важность оказалась самой низкой. "
   ]
  },
  {
   "cell_type": "code",
   "execution_count": 31,
   "metadata": {},
   "outputs": [],
   "source": [
    "df = df.drop(['customerID', 'BeginDate', 'EndDate', 'PaymentMethod', 'TotalCharges', 'MonthlyCharges', 'DeviceProtection'], axis=1)"
   ]
  },
  {
   "cell_type": "markdown",
   "metadata": {},
   "source": [
    "<a name = '3.2'></a>\n",
    "### 3.2 Подготовка выборки к обучению  "
   ]
  },
  {
   "cell_type": "code",
   "execution_count": 32,
   "metadata": {
    "scrolled": true
   },
   "outputs": [
    {
     "name": "stdout",
     "output_type": "stream",
     "text": [
      "\u001b[1mРазмеры выборок\u001b[0m\n",
      "(5634, 14)\n",
      "(1409, 14)\n",
      "(5634,)\n",
      "(1409,)\n"
     ]
    }
   ],
   "source": [
    "y = df['Exited']\n",
    "X = df.drop('Exited', axis=1)\n",
    "# разделение выборки \n",
    "X_train, X_test, y_train, y_test = train_test_split(X, y, test_size=0.2, stratify = y, random_state=1)\n",
    "header('Размеры выборок')\n",
    "for x in [X_train, X_test, y_train, y_test]: \n",
    "    print(x.shape)"
   ]
  },
  {
   "cell_type": "markdown",
   "metadata": {},
   "source": [
    "<a name = '4'></a>\n",
    "## 4. Настройка модели"
   ]
  },
  {
   "cell_type": "markdown",
   "metadata": {},
   "source": [
    "<a name = '4.1'></a>\n",
    "### 4.1 CatBoost Classifier "
   ]
  },
  {
   "cell_type": "markdown",
   "metadata": {},
   "source": [
    "С помощью `randomized_search` были подобраны оптимальные параметры модели."
   ]
  },
  {
   "cell_type": "code",
   "execution_count": 33,
   "metadata": {},
   "outputs": [],
   "source": [
    "best_params = {'loss_function': 'Logloss',\n",
    "               'verbose': 500,\n",
    "               'random_state': 1,\n",
    "               'depth': 4,\n",
    "               'l2_leaf_reg': 1,\n",
    "               'iterations': 1500,\n",
    "               'learning_rate': 0.1}"
   ]
  },
  {
   "cell_type": "code",
   "execution_count": 34,
   "metadata": {},
   "outputs": [
    {
     "name": "stdout",
     "output_type": "stream",
     "text": [
      "0:\tlearn: 0.6540294\ttotal: 243ms\tremaining: 6m 4s\n",
      "500:\tlearn: 0.2181878\ttotal: 15.7s\tremaining: 31.2s\n",
      "1000:\tlearn: 0.1764425\ttotal: 33.1s\tremaining: 16.5s\n",
      "1499:\tlearn: 0.1530893\ttotal: 47.6s\tremaining: 0us\n"
     ]
    },
    {
     "data": {
      "text/plain": [
       "{'learn': {'Logloss': 0.15308926024184422}}"
      ]
     },
     "execution_count": 34,
     "metadata": {},
     "output_type": "execute_result"
    }
   ],
   "source": [
    "cat_features = ['gender', 'Type', 'InternetService', 'MultipleLines']\n",
    "model = CatBoostClassifier(**best_params, cat_features=cat_features)\n",
    "model.fit(X_train, y_train)\n",
    "model.best_score_"
   ]
  },
  {
   "cell_type": "code",
   "execution_count": 35,
   "metadata": {},
   "outputs": [
    {
     "name": "stdout",
     "output_type": "stream",
     "text": [
      "0:\tlearn: 0.6378848\ttest: 0.6379493\tbest: 0.6379493 (0)\n",
      "200:\tlearn: 0.2901571\ttest: 0.3302941\tbest: 0.3302941 (200)\ttotal: 17.6s\tremaining: 1m 53s\n",
      "400:\tlearn: 0.2328951\ttest: 0.2912613\tbest: 0.2912613 (400)\n",
      "600:\tlearn: 0.2028283\ttest: 0.2784738\tbest: 0.2784738 (600)\n",
      "800:\tlearn: 0.1811295\ttest: 0.2724799\tbest: 0.2723011 (793)\n",
      "1000:\tlearn: 0.1660157\ttest: 0.2709385\tbest: 0.2708016 (983)\n",
      "1200:\tlearn: 0.1531513\ttest: 0.2708200\tbest: 0.2706186 (1197)\n",
      "1400:\tlearn: 0.1417285\ttest: 0.2707612\tbest: 0.2706186 (1197)\n",
      "1499:\tlearn: 0.1367321\ttest: 0.2710908\tbest: 0.2701674 (1455)\ttotal: 1m 38s\tremaining: 0us\n"
     ]
    }
   ],
   "source": [
    "best_params['custom_loss'] = 'AUC'\n",
    "pool = Pool(X_train, label=y_train, cat_features = cat_features)\n",
    "\n",
    "cv_data = cv(params = best_params, \n",
    "             pool = pool,\n",
    "             fold_count=3, \n",
    "             shuffle=True,\n",
    "             verbose=200,\n",
    "             partition_random_seed=1)"
   ]
  },
  {
   "cell_type": "code",
   "execution_count": 36,
   "metadata": {},
   "outputs": [
    {
     "name": "stdout",
     "output_type": "stream",
     "text": [
      "Best validation AUC score: 0.9354 on step 1448\n"
     ]
    }
   ],
   "source": [
    "best_value = np.max(cv_data['test-AUC-mean'])\n",
    "best_iter = np.argmax(cv_data['test-AUC-mean'])\n",
    "print('Best validation AUC score: {:.4f} on step {}'.format(best_value, best_iter))"
   ]
  },
  {
   "cell_type": "code",
   "execution_count": 37,
   "metadata": {},
   "outputs": [
    {
     "name": "stdout",
     "output_type": "stream",
     "text": [
      "test accuracy 0.9034776437189496\n",
      "test roc auc 0.9427213309566251\n"
     ]
    }
   ],
   "source": [
    "predict = model.predict(X_test)\n",
    "predict_proba = model.predict_proba(X_test)[:,1]\n",
    "print('test accuracy', accuracy_score(predict, y_test))\n",
    "print('test roc auc', roc_auc_score(y_test, predict_proba))"
   ]
  },
  {
   "cell_type": "code",
   "execution_count": 38,
   "metadata": {},
   "outputs": [],
   "source": [
    "importance = model.get_feature_importance() \n",
    "features = X_train.columns\n",
    "feature_importance = {'feature':features, \n",
    "                     'importance': importance}\n",
    "feature_importance = pd.DataFrame(feature_importance)"
   ]
  },
  {
   "cell_type": "code",
   "execution_count": 39,
   "metadata": {},
   "outputs": [
    {
     "data": {
      "image/png": "[encoded data removed]",
      "text/plain": [
       "<Figure size 432x288 with 1 Axes>"
      ]
     },
     "metadata": {},
     "output_type": "display_data"
    }
   ],
   "source": [
    "sns.barplot(y=feature_importance['feature'], x=feature_importance['importance'])\n",
    "plt.title('Важность признаков полученной модели')\n",
    "plt.xlabel('Важность признака')\n",
    "plt.ylabel('Признак') \n",
    "plt.show()"
   ]
  },
  {
   "cell_type": "markdown",
   "metadata": {},
   "source": [
    "Видим, что наиболее важным признаком является `Lifespan`. 3 наиболее важных признака: \n",
    "- Type\n",
    "- InternetService \n",
    "- Lifespan \n",
    "\n",
    "Note: обучение модели на признаках `Type`, `InternetService`, `Lifespan` в черновике не дало выигрыша, из проекта удалено. "
   ]
  },
  {
   "cell_type": "code",
   "execution_count": 40,
   "metadata": {},
   "outputs": [
    {
     "data": {
      "image/png": "[encoded data removed]",
      "text/plain": [
       "<Figure size 1440x432 with 4 Axes>"
      ]
     },
     "metadata": {},
     "output_type": "display_data"
    }
   ],
   "source": [
    "fig, ax = plt.subplots(1,3, figsize=(20, 6))\n",
    "plot_roc_curve(model, X_test, y_test, ax=ax[0])  \n",
    "ax[0].plot([1, 0], [1, 0], ls=\"--\", c=\".3\")\n",
    "plot_precision_recall_curve(model, X_test, y_test, ax=ax[1])\n",
    "plot_confusion_matrix(model, X_test, y_test, ax=ax[2])\n",
    "plt.show()"
   ]
  },
  {
   "cell_type": "markdown",
   "metadata": {},
   "source": [
    "Можем предположить, что для данного бизнеса актуальна минимизация FN, то есть повышение Recall. "
   ]
  },
  {
   "cell_type": "code",
   "execution_count": 41,
   "metadata": {},
   "outputs": [
    {
     "name": "stdout",
     "output_type": "stream",
     "text": [
      "Recall: 0.7459893048128342\n"
     ]
    }
   ],
   "source": [
    "print('Recall:', recall_score(y_test, predict))"
   ]
  },
  {
   "cell_type": "markdown",
   "metadata": {},
   "source": [
    "<a name = '4.2'></a>\n",
    "### 4.2 Random Forest Classifier "
   ]
  },
  {
   "cell_type": "markdown",
   "metadata": {},
   "source": [
    "Для сравнения рассмотрим другую модель - случайный лес, со случайным подбором гиперпараметров и кросс-валидацией на трех фолдах. "
   ]
  },
  {
   "cell_type": "code",
   "execution_count": 42,
   "metadata": {},
   "outputs": [],
   "source": [
    "# OHE признаков \n",
    "X_train_ohe = pd.get_dummies(X_train, drop_first=True)\n",
    "X_test_ohe = pd.get_dummies(X_test, drop_first=True)  \n",
    "\n",
    "grid = {'bootstrap': [True, False],\n",
    "        'max_depth': [10, 20, 30, 40, 50, 60, 70, 80, 90, 100, None],\n",
    "        'max_features': ['auto', 'sqrt'],\n",
    "        'min_samples_leaf': [1, 2, 4],\n",
    "        'min_samples_split': [2, 5, 10],\n",
    "        'n_estimators': [200, 400, 600, 800, 1000, 1200, 1400, 1600, 1800, 2000]}"
   ]
  },
  {
   "cell_type": "code",
   "execution_count": 43,
   "metadata": {},
   "outputs": [
    {
     "data": {
      "text/plain": [
       "RandomizedSearchCV(cv=3, estimator=RandomForestClassifier(), n_iter=20,\n",
       "                   n_jobs=-1,\n",
       "                   param_distributions={'bootstrap': [True, False],\n",
       "                                        'max_depth': [10, 20, 30, 40, 50, 60,\n",
       "                                                      70, 80, 90, 100, None],\n",
       "                                        'max_features': ['auto', 'sqrt'],\n",
       "                                        'min_samples_leaf': [1, 2, 4],\n",
       "                                        'min_samples_split': [2, 5, 10],\n",
       "                                        'n_estimators': [200, 400, 600, 800,\n",
       "                                                         1000, 1200, 1400, 1600,\n",
       "                                                         1800, 2000]},\n",
       "                   random_state=1, scoring='recall')"
      ]
     },
     "execution_count": 43,
     "metadata": {},
     "output_type": "execute_result"
    }
   ],
   "source": [
    "randomized = RandomizedSearchCV(RandomForestClassifier(), \n",
    "                                grid,\n",
    "                                n_iter = 20,\n",
    "                                scoring='recall',\n",
    "                                cv=3,\n",
    "                                n_jobs=-1,\n",
    "                                random_state=1)\n",
    "randomized.fit(X_train_ohe, y_train)"
   ]
  },
  {
   "cell_type": "code",
   "execution_count": 44,
   "metadata": {},
   "outputs": [
    {
     "name": "stdout",
     "output_type": "stream",
     "text": [
      "Recall кросс-валидации: 0.5264182984442781\n"
     ]
    }
   ],
   "source": [
    "print('Recall кросс-валидации:', randomized.best_score_)"
   ]
  },
  {
   "cell_type": "code",
   "execution_count": 45,
   "metadata": {},
   "outputs": [
    {
     "name": "stdout",
     "output_type": "stream",
     "text": [
      "test accuracy 0.801277501774308\n",
      "test roc auc 0.830685370327314\n",
      "test recall 0.48663101604278075\n"
     ]
    }
   ],
   "source": [
    "forest = RandomForestClassifier(**randomized.best_params_, random_state=1).fit(X_train_ohe, y_train)\n",
    "predictions = forest.predict(X_test_ohe)\n",
    "probas = forest.predict_proba(X_test_ohe)[:,1]\n",
    "print('test accuracy', accuracy_score(predictions, y_test))\n",
    "print('test roc auc', roc_auc_score(y_test, probas))\n",
    "print('test recall', recall_score(y_test, predictions))"
   ]
  },
  {
   "cell_type": "code",
   "execution_count": 46,
   "metadata": {},
   "outputs": [
    {
     "data": {
      "image/png": "[encoded data removed]",
      "text/plain": [
       "<Figure size 1440x432 with 4 Axes>"
      ]
     },
     "metadata": {},
     "output_type": "display_data"
    }
   ],
   "source": [
    "fig, ax = plt.subplots(1,3, figsize=(20, 6))\n",
    "plot_roc_curve(forest, X_test_ohe, y_test, ax=ax[0])  \n",
    "ax[0].plot([1, 0], [1, 0], ls=\"--\", c=\".3\")\n",
    "plot_precision_recall_curve(forest, X_test_ohe, y_test, ax=ax[1])\n",
    "plot_confusion_matrix(forest, X_test_ohe, y_test, ax=ax[2])\n",
    "plt.show()"
   ]
  },
  {
   "cell_type": "markdown",
   "metadata": {},
   "source": [
    "Модель случайного леса отработала значительно хуже. При удовлетворительных метриках accuracy и ROC AUC (~0.8), модель обладает крайне низкой метрикой recall, что недопустимо для текущей задачи. Дальнейшая настройка модели проводиться не будет. "
   ]
  },
  {
   "cell_type": "markdown",
   "metadata": {},
   "source": [
    "<a name = '5'></a>\n",
    "## 5. Вывод "
   ]
  },
  {
   "cell_type": "markdown",
   "metadata": {},
   "source": [
    "Была настроена модель CatBoost, показавшая высокие метрики accuracy (0.9) и ROC AUC (0.94). Метрика Recall у данной модели составляет 0,75, что означает, что модель верно классифицирует 3/4 объектов положительного класса. Полученный результат значительно превосходит результат модели Random Forest, поэтому она рекомендована для использования.  \n",
    "\n",
    "В зависимости от пожеланий и целей бинеса в будущем модель может быть донастроена для повышения recall. "
   ]
  }
 ],
 "metadata": {
  "ExecuteTimeLog": [
   {
    "duration": 1905,
    "start_time": "2021-07-07T04:13:23.041Z"
   },
   {
    "duration": -1757,
    "start_time": "2021-07-07T04:13:26.706Z"
   },
   {
    "duration": -1760,
    "start_time": "2021-07-07T04:13:26.710Z"
   },
   {
    "duration": 254,
    "start_time": "2021-07-07T04:14:09.372Z"
   },
   {
    "duration": 262,
    "start_time": "2021-07-07T04:14:29.027Z"
   },
   {
    "duration": 26,
    "start_time": "2021-07-07T04:14:49.181Z"
   },
   {
    "duration": 4,
    "start_time": "2021-07-07T04:15:05.472Z"
   },
   {
    "duration": 5,
    "start_time": "2021-07-07T04:15:06.149Z"
   },
   {
    "duration": 110,
    "start_time": "2021-07-07T04:15:12.606Z"
   },
   {
    "duration": 23,
    "start_time": "2021-07-07T04:16:05.533Z"
   },
   {
    "duration": 11,
    "start_time": "2021-07-07T04:16:07.937Z"
   },
   {
    "duration": 1034,
    "start_time": "2021-07-07T04:16:10.847Z"
   },
   {
    "duration": 17,
    "start_time": "2021-07-07T04:16:12.396Z"
   },
   {
    "duration": 18,
    "start_time": "2021-07-07T04:16:58.137Z"
   },
   {
    "duration": 8,
    "start_time": "2021-07-07T04:17:00.417Z"
   },
   {
    "duration": 20,
    "start_time": "2021-07-07T04:17:20.347Z"
   },
   {
    "duration": 9,
    "start_time": "2021-07-07T04:17:21.975Z"
   },
   {
    "duration": 28,
    "start_time": "2021-07-07T04:17:24.867Z"
   },
   {
    "duration": 5,
    "start_time": "2021-07-07T04:17:29.654Z"
   },
   {
    "duration": 23,
    "start_time": "2021-07-07T04:17:50.830Z"
   },
   {
    "duration": 7,
    "start_time": "2021-07-07T04:17:54.071Z"
   },
   {
    "duration": 279,
    "start_time": "2021-07-07T04:17:56.244Z"
   },
   {
    "duration": 29,
    "start_time": "2021-07-07T04:20:40.919Z"
   },
   {
    "duration": 36,
    "start_time": "2021-07-07T04:21:00.181Z"
   },
   {
    "duration": 11,
    "start_time": "2021-07-07T04:21:10.243Z"
   },
   {
    "duration": 54,
    "start_time": "2021-07-07T04:21:56.553Z"
   },
   {
    "duration": 18,
    "start_time": "2021-07-07T04:22:05.589Z"
   },
   {
    "duration": 47,
    "start_time": "2021-07-07T04:22:17.405Z"
   },
   {
    "duration": 6,
    "start_time": "2021-07-07T04:22:17.455Z"
   },
   {
    "duration": 226,
    "start_time": "2021-07-07T04:22:18.923Z"
   },
   {
    "duration": 13,
    "start_time": "2021-07-07T04:22:31.015Z"
   },
   {
    "duration": 12,
    "start_time": "2021-07-07T04:22:31.099Z"
   },
   {
    "duration": 12,
    "start_time": "2021-07-07T04:22:31.277Z"
   },
   {
    "duration": 7,
    "start_time": "2021-07-07T04:22:50.883Z"
   },
   {
    "duration": 8,
    "start_time": "2021-07-07T04:22:50.921Z"
   },
   {
    "duration": 29,
    "start_time": "2021-07-07T04:24:05.636Z"
   },
   {
    "duration": 17,
    "start_time": "2021-07-07T04:27:19.816Z"
   }
  ],
  "kernelspec": {
   "display_name": "Python 3",
   "language": "python",
   "name": "python3"
  },
  "language_info": {
   "codemirror_mode": {
    "name": "ipython",
    "version": 3
   },
   "file_extension": ".py",
   "mimetype": "text/x-python",
   "name": "python",
   "nbconvert_exporter": "python",
   "pygments_lexer": "ipython3",
   "version": "3.8.5"
  },
  "toc": {
   "base_numbering": 1,
   "nav_menu": {},
   "number_sections": true,
   "sideBar": true,
   "skip_h1_title": true,
   "title_cell": "Table of Contents",
   "title_sidebar": "Contents",
   "toc_cell": false,
   "toc_position": {},
   "toc_section_display": true,
   "toc_window_display": false
  }
 },
 "nbformat": 4,
 "nbformat_minor": 4
}
